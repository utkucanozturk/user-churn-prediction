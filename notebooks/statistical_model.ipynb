{
 "cells": [
  {
   "cell_type": "code",
   "execution_count": null,
   "metadata": {},
   "outputs": [],
   "source": [
    "import yaml\n",
    "import pandas as pd\n",
    "import numpy as np\n",
    "import statsmodels.api as sm\n",
    "import plotly.express as px\n",
    "from patsy import dmatrices"
   ]
  },
  {
   "cell_type": "code",
   "execution_count": null,
   "metadata": {},
   "outputs": [],
   "source": [
    "# read in (yaml) configs\n",
    "with open('../conf/model_config.yaml', 'r') as conf:\n",
    "    model_config = yaml.safe_load(conf)\n",
    "\n",
    "# import data\n",
    "dataset = '../' + model_config['model']['loc'] + model_config['model']['file']\n",
    "dataset = pd.read_csv(dataset)\n",
    "\n",
    "# define predictors and target\n",
    "predictor = [i for i in model_config['meta']['predictors'] if i in ['outfit_liked', 'item_added', 'comment_posted', 'comment_liked']]\n",
    "target = model_config['meta']['target']\n",
    "df = dataset[predictor+target]\n",
    "\n",
    "# log transformation of the dataset\n",
    "df = np.log(df+1)"
   ]
  },
  {
   "cell_type": "code",
   "execution_count": null,
   "metadata": {},
   "outputs": [],
   "source": [
    "mask = np.random.rand(len(df)) < 0.7\n",
    "df_train = df[mask]\n",
    "df_test = df[~mask]"
   ]
  },
  {
   "cell_type": "code",
   "execution_count": null,
   "metadata": {},
   "outputs": [],
   "source": [
    "formula = target[0] + ' ~ ' + ''.join([str(i) + ' + ' for i in predictor])\n",
    "formula =formula[:-3]"
   ]
  },
  {
   "cell_type": "code",
   "execution_count": null,
   "metadata": {},
   "outputs": [],
   "source": [
    "#Set up the X and y matrices\n",
    "y_train, X_train = dmatrices(formula, df_train, return_type='dataframe')\n",
    "y_test, X_test = dmatrices(formula, df_test, return_type='dataframe')"
   ]
  },
  {
   "cell_type": "code",
   "execution_count": null,
   "metadata": {},
   "outputs": [],
   "source": [
    "gauss_model = sm.GLM(y_train, X_train, family=sm.families.Gaussian())\n",
    "gauss_results = gauss_model.fit()"
   ]
  },
  {
   "cell_type": "code",
   "execution_count": null,
   "metadata": {},
   "outputs": [],
   "source": [
    "print(gauss_results.summary())"
   ]
  },
  {
   "cell_type": "code",
   "execution_count": null,
   "metadata": {},
   "outputs": [],
   "source": [
    "gauss_predictions = gauss_results.get_prediction(X_test)\n",
    "predictions_summary_frame = gauss_predictions.summary_frame()"
   ]
  },
  {
   "cell_type": "code",
   "execution_count": null,
   "metadata": {},
   "outputs": [],
   "source": [
    "predicted_score=predictions_summary_frame['mean']\n",
    "actual_score = y_test['retentionScore']\n",
    "residuals = actual_score - predicted_score"
   ]
  },
  {
   "cell_type": "code",
   "execution_count": null,
   "metadata": {},
   "outputs": [],
   "source": [
    "fig = px.scatter(x=actual_score, y=predicted_score, labels={'x': 'retention score', 'y': 'prediction'}, \n",
    "                 title = 'Comparison between predictions and reality',\n",
    "                 template = 'plotly_dark')\n",
    "fig.update_traces(marker=dict(size=5, \n",
    "                              color=((abs(actual_score-predicted_score)/actual_score < 0.10).astype('int')),\n",
    "                              colorscale=[[0, '#FAED27'],[1, '#98FB98']])\n",
    "                             )\n",
    "fig.add_shape(\n",
    "    type=\"line\", line=dict(dash='dash'),\n",
    "    x0=actual_score.min(), y0=actual_score.min(),\n",
    "    x1=actual_score.max(), y1=actual_score.max()\n",
    ")\n",
    "fig.write_html(\"../documentation/docs/assets/stat_gauss_fit.html\")"
   ]
  },
  {
   "cell_type": "code",
   "execution_count": null,
   "metadata": {},
   "outputs": [],
   "source": [
    "fig = px.scatter(x=predicted_score, y=residuals, labels={'x': 'prediction', 'y': 'residuals'}, template='plotly_dark')\n",
    "fig.write_html(\"../documentation/docs/assets/stat_gauss_residuals.html\")"
   ]
  },
  {
   "cell_type": "markdown",
   "metadata": {},
   "source": [
    "# Adding Interactions to the formula"
   ]
  },
  {
   "cell_type": "code",
   "execution_count": null,
   "metadata": {},
   "outputs": [],
   "source": [
    "formula2 = formula + '+ item_added:outfit_liked + item_added:comment_posted + item_added:comment_liked + outfit_liked:comment_posted + outfit_liked:comment_liked + comment_posted:comment_liked'"
   ]
  },
  {
   "cell_type": "code",
   "execution_count": null,
   "metadata": {},
   "outputs": [],
   "source": [
    "#Set up the X and y matrices\n",
    "y_train2, X_train2 = dmatrices(formula2, df_train, return_type='dataframe')\n",
    "y_test2, X_test2 = dmatrices(formula2, df_test, return_type='dataframe')"
   ]
  },
  {
   "cell_type": "code",
   "execution_count": null,
   "metadata": {},
   "outputs": [],
   "source": [
    "gauss_model2 = sm.GLM(y_train2, X_train2, family=sm.families.Gaussian())\n",
    "gauss_results2 = gauss_model2.fit()"
   ]
  },
  {
   "cell_type": "code",
   "execution_count": null,
   "metadata": {},
   "outputs": [],
   "source": [
    "print(gauss_results2.summary())"
   ]
  },
  {
   "cell_type": "code",
   "execution_count": null,
   "metadata": {},
   "outputs": [],
   "source": [
    "gauss_predictions2 = gauss_results2.get_prediction(X_test2)\n",
    "predictions_summary_frame2 = gauss_predictions2.summary_frame()"
   ]
  },
  {
   "cell_type": "code",
   "execution_count": null,
   "metadata": {},
   "outputs": [],
   "source": [
    "predicted_score2=predictions_summary_frame2['mean']\n",
    "actual_score2 = y_test2['retentionScore']\n",
    "residuals2 = actual_score2.values - predicted_score2"
   ]
  },
  {
   "cell_type": "code",
   "execution_count": null,
   "metadata": {},
   "outputs": [],
   "source": [
    "fig = px.scatter(x=actual_score2, y=predicted_score2, labels={'x': 'retention score', 'y': 'prediction'}, \n",
    "                 title = 'Comparison between predictions and reality',\n",
    "                 template = 'plotly_dark')\n",
    "fig.update_traces(marker=dict(size=5, \n",
    "                              color=((abs(actual_score2-predicted_score2)/actual_score2 < 0.10).astype('int')),\n",
    "                              colorscale=[[0, '#FAED27'],[1, '#98FB98']])\n",
    "                             )\n",
    "fig.add_shape(\n",
    "    type=\"line\", line=dict(dash='dash'),\n",
    "    x0=actual_score2.min(), y0=actual_score2.min(),\n",
    "    x1=actual_score2.max(), y1=actual_score2.max()\n",
    ")\n",
    "fig.write_html(\"../documentation/docs/assets/stat_gauss2_fit.html\")"
   ]
  },
  {
   "cell_type": "code",
   "execution_count": null,
   "metadata": {},
   "outputs": [],
   "source": [
    "fig = px.scatter(x=predicted_score2, y=residuals2, labels={'x': 'prediction', 'y': 'residuals'}, template='plotly_dark')\n",
    "fig.write_html(\"../documentation/docs/assets/stat_gauss2_residual.html\")"
   ]
  },
  {
   "cell_type": "markdown",
   "metadata": {},
   "source": [
    "# Gamma"
   ]
  },
  {
   "cell_type": "code",
   "execution_count": null,
   "metadata": {},
   "outputs": [],
   "source": [
    "gamma_model = sm.GLM(y_train2, X_train2, family=sm.families.Gamma())\n",
    "gamma_results = gamma_model.fit()"
   ]
  },
  {
   "cell_type": "code",
   "execution_count": null,
   "metadata": {},
   "outputs": [],
   "source": [
    "print(gamma_results.summary())"
   ]
  },
  {
   "cell_type": "code",
   "execution_count": null,
   "metadata": {},
   "outputs": [],
   "source": [
    "gamma_predictions = gamma_results.get_prediction(X_test2)\n",
    "predictions_summary_frame3 = gamma_predictions.summary_frame()"
   ]
  },
  {
   "cell_type": "code",
   "execution_count": null,
   "metadata": {},
   "outputs": [],
   "source": [
    "predicted_score3=predictions_summary_frame3['mean']\n",
    "residuals3 = actual_score2.values - predicted_score3"
   ]
  },
  {
   "cell_type": "code",
   "execution_count": null,
   "metadata": {},
   "outputs": [],
   "source": [
    "fig = px.scatter(x=actual_score2, y=predicted_score3, labels={'x': 'retention score', 'y': 'prediction'}, \n",
    "                 title = 'Comparison between predictions and reality',\n",
    "                 template = 'plotly_dark')\n",
    "fig.update_traces(marker=dict(size=5, \n",
    "                              color=((abs(actual_score2-predicted_score3)/actual_score2 < 0.10).astype('int')),\n",
    "                              colorscale=[[0, '#FAED27'],[1, '#98FB98']])\n",
    "                             )\n",
    "fig.add_shape(\n",
    "    type=\"line\", line=dict(dash='dash'),\n",
    "    x0=actual_score2.min(), y0=actual_score2.min(),\n",
    "    x1=actual_score2.max(), y1=actual_score2.max()\n",
    ")\n",
    "fig.write_html(\"../documentation/docs/assets/stat_gamma_fit.html\")"
   ]
  },
  {
   "cell_type": "code",
   "execution_count": null,
   "metadata": {},
   "outputs": [],
   "source": []
  }
 ],
 "metadata": {
  "interpreter": {
   "hash": "9032b3f45ccaea82bd424b811a38640fbb98cc82813f6c031d2c072779b2e7a3"
  },
  "kernelspec": {
   "display_name": "Python 3.7.9 64-bit",
   "name": "python3"
  },
  "language_info": {
   "codemirror_mode": {
    "name": "ipython",
    "version": 3
   },
   "file_extension": ".py",
   "mimetype": "text/x-python",
   "name": "python",
   "nbconvert_exporter": "python",
   "pygments_lexer": "ipython3",
   "version": "3.7.9"
  },
  "orig_nbformat": 4
 },
 "nbformat": 4,
 "nbformat_minor": 2
}
