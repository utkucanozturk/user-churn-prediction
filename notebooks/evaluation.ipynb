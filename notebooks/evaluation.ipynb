{
 "cells": [
  {
   "cell_type": "code",
   "execution_count": null,
   "metadata": {},
   "outputs": [],
   "source": [
    "import pandas as pd\n",
    "import yaml\n",
    "import numpy as np\n",
    "import dalex as dx\n",
    "import shap\n",
    "import plotly.figure_factory as ff\n",
    "import plotly.graph_objects as go\n",
    "import plotly.express as px\n",
    "import seaborn as sns\n",
    "import matplotlib.pyplot as plt\n",
    "import lightgbm\n",
    "import xgboost as xgb\n",
    "from sklearn.model_selection import train_test_split"
   ]
  },
  {
   "cell_type": "markdown",
   "metadata": {},
   "source": [
    "# Reading Dataset"
   ]
  },
  {
   "cell_type": "code",
   "execution_count": null,
   "metadata": {},
   "outputs": [],
   "source": [
    "# read in (yaml) configs\n",
    "with open('../conf/model_config.yaml', 'r') as conf:\n",
    "    model_config = yaml.safe_load(conf)\n",
    "\n",
    "# import data\n",
    "dataset = '../' + model_config['model']['loc'] + model_config['model']['file']\n",
    "dataset = pd.read_csv(dataset)"
   ]
  },
  {
   "cell_type": "markdown",
   "metadata": {},
   "source": [
    "## Reading Data Dict"
   ]
  },
  {
   "cell_type": "code",
   "execution_count": null,
   "metadata": {},
   "outputs": [],
   "source": [
    "# Reading in the data dictionary\n",
    "dict_dir = '../data/meta/data_dict.xlsx'\n",
    "\n",
    "dic = pd.read_excel(dict_dir, engine = 'openpyxl')"
   ]
  },
  {
   "cell_type": "code",
   "execution_count": null,
   "metadata": {},
   "outputs": [],
   "source": [
    "predictors = dic.loc[(dic.role=='predictor') & (dic.use == 'Y'), 'name'].values.tolist()\n",
    "target = dic.loc[dic.role=='target', 'name'].values.tolist()"
   ]
  },
  {
   "cell_type": "code",
   "execution_count": null,
   "metadata": {},
   "outputs": [],
   "source": [
    "X = dataset[predictors]\n",
    "y = dataset[target]\n",
    "\n",
    "X_train, X_test, y_train, y_test = train_test_split(X, y, test_size = model_config['parameter']['test_size'], random_state = 42)"
   ]
  },
  {
   "cell_type": "markdown",
   "metadata": {},
   "source": [
    "# Initialize and Train Champion Models"
   ]
  },
  {
   "cell_type": "code",
   "execution_count": null,
   "metadata": {},
   "outputs": [],
   "source": [
    "model_xgb = xgb.XGBRegressor(random_state=42, n_estimators=300, max_depth=3, eta=.05)\n",
    "model_xgb.fit(X_train, y_train)\n",
    "\n",
    "model_lgbm = lightgbm.LGBMRegressor(random_state=42, n_estimators=500, max_depth=-1, learning_rate=.2)\n",
    "model_lgbm.fit(X_train, y_train)"
   ]
  },
  {
   "cell_type": "markdown",
   "metadata": {},
   "source": [
    "# Model Evaluation"
   ]
  },
  {
   "cell_type": "code",
   "execution_count": null,
   "metadata": {},
   "outputs": [],
   "source": [
    "# predict holdout\n",
    "pred = model_xgb.predict(X_test)\n",
    "\n",
    "# mean absolute error as KPI\n",
    "errors = abs(pred - y_test.iloc[:,0].to_numpy())\n",
    "avg_error = np.mean(errors)\n",
    "print('MAE:', np.round(avg_error, 3))"
   ]
  },
  {
   "cell_type": "code",
   "execution_count": null,
   "metadata": {},
   "outputs": [],
   "source": [
    "y_true = y_test.iloc[:,0].to_numpy()\n",
    "y_pred = pred\n",
    "\n",
    "fig = px.scatter(x=y_true, y=y_pred, labels={'x': 'retention score', 'y': 'prediction'}, \n",
    "                 title = 'Comparison between predictions and reality',\n",
    "                 template = 'plotly_dark')\n",
    "fig.update_traces(marker=dict(size=5, \n",
    "                              color=((abs(y_true-y_pred)/y_true < 0.05).astype('int')),\n",
    "                              colorscale=[[0, '#FAED27'],[1, '#98FB98']])\n",
    "                             )\n",
    "fig.add_shape(\n",
    "    type=\"line\", line=dict(dash='dash'),\n",
    "    x0=y_true.min(), y0=y_true.min(),\n",
    "    x1=y_true.max(), y1=y_true.max()\n",
    ")\n",
    "fig.write_html(\"../documentation/docs/assets/prediction_scatter.html\")"
   ]
  },
  {
   "cell_type": "code",
   "execution_count": null,
   "metadata": {},
   "outputs": [],
   "source": [
    "exp_xgb = dx.Explainer(model_xgb, X, y, label = 'XGBoost')\n",
    "exp_lgbm = dx.Explainer(model_lgbm, X, y, label = 'LightGBM')"
   ]
  },
  {
   "cell_type": "markdown",
   "metadata": {},
   "source": [
    "# Model Perfomance"
   ]
  },
  {
   "cell_type": "code",
   "execution_count": null,
   "metadata": {},
   "outputs": [],
   "source": [
    "mp_xgb = exp_xgb.model_performance(model_type='regression')\n",
    "mp_lgbm = exp_lgbm.model_performance(model_type='regression')"
   ]
  },
  {
   "cell_type": "markdown",
   "metadata": {},
   "source": [
    "## Performance Metrics"
   ]
  },
  {
   "cell_type": "code",
   "execution_count": null,
   "metadata": {},
   "outputs": [],
   "source": [
    "mp_xgb.result"
   ]
  },
  {
   "cell_type": "code",
   "execution_count": null,
   "metadata": {},
   "outputs": [],
   "source": [
    "mp_lgbm.result"
   ]
  },
  {
   "cell_type": "markdown",
   "metadata": {},
   "source": [
    "## Residual 95% Confidence Intervals"
   ]
  },
  {
   "cell_type": "code",
   "execution_count": null,
   "metadata": {},
   "outputs": [],
   "source": [
    "xgb_ci = 1.96*(mp_xgb.residuals.residuals.std())/(np.float_power(len(dataset), .5))\n",
    "print('XGBoost 95% confidence interval for residuals: ' + str(tuple([mp_xgb.residuals.residuals.mean()-xgb_ci, mp_xgb.residuals.residuals.mean()+xgb_ci])) + '; where mean of residuals is ' + str(mp_xgb.residuals.residuals.mean()))\n",
    "lgbm_ci = 1.96*(mp_lgbm.residuals.residuals.std())/(np.float_power(len(dataset), .5))\n",
    "print('LigthGBM 95% confidence interval for residuals: ' + str(tuple([mp_lgbm.residuals.residuals.mean()-lgbm_ci, mp_lgbm.residuals.residuals.mean()+lgbm_ci])) + '; where mean of residuals is ' + str(mp_lgbm.residuals.residuals.mean()))"
   ]
  },
  {
   "cell_type": "markdown",
   "metadata": {},
   "source": [
    "## Absolute Residual Quantiles "
   ]
  },
  {
   "cell_type": "code",
   "execution_count": null,
   "metadata": {},
   "outputs": [],
   "source": [
    "for i in [.95, .99, .995, .999]:\n",
    "    print(str(i*100) + ' percentile of the XGBoost residuals is ' + str(abs(mp_xgb.residuals.residuals).quantile(i)))\n",
    "    print(str(i*100) + ' percentile of the LightGBM residuals is ' + str(abs(mp_lgbm.residuals.residuals).quantile(i)))"
   ]
  },
  {
   "cell_type": "markdown",
   "metadata": {},
   "source": [
    "## Reverse Cumulative Distribution of Residuals"
   ]
  },
  {
   "cell_type": "code",
   "execution_count": null,
   "metadata": {},
   "outputs": [],
   "source": [
    "fig = mp_lgbm.plot(mp_xgb, show=False);\n",
    "fig.update_layout(template='plotly_dark')\n",
    "fig.update_xaxes(range=[0, 5])\n",
    "fig.write_html(\"../documentation/docs/assets/reverse_residuals.html\")"
   ]
  },
  {
   "cell_type": "markdown",
   "metadata": {},
   "source": [
    "## Further Residual Analysis"
   ]
  },
  {
   "cell_type": "code",
   "execution_count": null,
   "metadata": {},
   "outputs": [],
   "source": [
    "md_xgb = exp_xgb.model_diagnostics()\n",
    "md_lgbm = exp_lgbm.model_diagnostics()"
   ]
  },
  {
   "cell_type": "code",
   "execution_count": null,
   "metadata": {},
   "outputs": [],
   "source": [
    "fig = md_xgb.plot(md_lgbm, show=False);\n",
    "fig.update_layout(template='plotly_dark')\n",
    "fig.update_yaxes(range=[-50, 50], row=1, col=1)\n",
    "fig.write_html(\"../documentation/docs/assets/residuals_scatter.html\")\n"
   ]
  },
  {
   "cell_type": "markdown",
   "metadata": {},
   "source": [
    "# Feature Importances"
   ]
  },
  {
   "cell_type": "code",
   "execution_count": null,
   "metadata": {},
   "outputs": [],
   "source": [
    "mfe_xgb = exp_xgb.model_parts()\n",
    "mfe_lgbm = exp_lgbm.model_parts()"
   ]
  },
  {
   "cell_type": "code",
   "execution_count": null,
   "metadata": {},
   "outputs": [],
   "source": [
    "fig = mfe_xgb.plot(show=False)\n",
    "fig.update_layout(template='plotly_dark', font_color='aliceblue')\n",
    "fig.update_traces(marker_color='#46bac2', textfont_color='aliceblue')\n",
    "fig.update_yaxes(color='aliceblue')\n",
    "fig.update_xaxes(color='aliceblue', showgrid=False)\n",
    "fig.write_html(\"../documentation/docs/assets/xgb_feature_imp.html\")"
   ]
  },
  {
   "cell_type": "code",
   "execution_count": null,
   "metadata": {},
   "outputs": [],
   "source": [
    "fig = mfe_lgbm.plot(show=False)\n",
    "fig.update_layout(template='plotly_dark', font_color='aliceblue')\n",
    "fig.update_traces(marker_color='#8bdcbe', textfont_color='aliceblue')\n",
    "fig.update_yaxes(color='aliceblue')\n",
    "fig.update_xaxes(color='aliceblue', showgrid=False)\n",
    "fig.write_html(\"../documentation/docs/assets/lgbm_feature_imp.html\")"
   ]
  },
  {
   "cell_type": "code",
   "execution_count": null,
   "metadata": {},
   "outputs": [],
   "source": [
    "explainer_xgb = shap.TreeExplainer(model_xgb, X, model_output = \"margin\", feature_pertubation = \"interventional\")\n",
    "shap_values_xgb = explainer_xgb.shap_values(X, check_additivity=False)"
   ]
  },
  {
   "cell_type": "code",
   "execution_count": null,
   "metadata": {},
   "outputs": [],
   "source": [
    "shap.summary_plot(shap_values_xgb, X, plot_type = \"bar\", color='#46bac2', show=False);\n",
    "fig=plt.gcf()\n",
    "fig.set_figheight(12)\n",
    "fig.set_figwidth(14)\n",
    "ax = plt.gca()\n",
    "ax.set_title('Shapley Feature Importance for XGBoost')\n",
    "ax.tick_params(axis='y', labelsize=24)\n",
    "plt.show()"
   ]
  }
 ],
 "metadata": {
  "interpreter": {
   "hash": "9032b3f45ccaea82bd424b811a38640fbb98cc82813f6c031d2c072779b2e7a3"
  },
  "kernelspec": {
   "display_name": "Python 3.7.9 64-bit",
   "name": "python3"
  },
  "language_info": {
   "codemirror_mode": {
    "name": "ipython",
    "version": 3
   },
   "file_extension": ".py",
   "mimetype": "text/x-python",
   "name": "python",
   "nbconvert_exporter": "python",
   "pygments_lexer": "ipython3",
   "version": "3.7.9"
  },
  "orig_nbformat": 4
 },
 "nbformat": 4,
 "nbformat_minor": 2
}
