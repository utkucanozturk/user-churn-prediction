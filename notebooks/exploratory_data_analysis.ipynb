{
 "cells": [
  {
   "cell_type": "code",
   "execution_count": 2,
   "metadata": {},
   "outputs": [],
   "source": [
    "import numpy as np\n",
    "import pandas as pd\n",
    "import plotly.express as px\n",
    "import plotly.graph_objects as go\n",
    "from plotly.subplots import make_subplots\n",
    "import os\n",
    "pd.options.mode.chained_assignment = None\n",
    "pd.set_option('display.float_format', lambda x: '%.3f' % x)"
   ]
  },
  {
   "cell_type": "markdown",
   "metadata": {},
   "source": [
    "# Read in data"
   ]
  },
  {
   "cell_type": "code",
   "execution_count": 3,
   "metadata": {},
   "outputs": [
    {
     "data": {
      "text/html": [
       "<div>\n",
       "<style scoped>\n",
       "    .dataframe tbody tr th:only-of-type {\n",
       "        vertical-align: middle;\n",
       "    }\n",
       "\n",
       "    .dataframe tbody tr th {\n",
       "        vertical-align: top;\n",
       "    }\n",
       "\n",
       "    .dataframe thead th {\n",
       "        text-align: right;\n",
       "    }\n",
       "</style>\n",
       "<table border=\"1\" class=\"dataframe\">\n",
       "  <thead>\n",
       "    <tr style=\"text-align: right;\">\n",
       "      <th></th>\n",
       "      <th>user_pseudo_id</th>\n",
       "      <th>retentionScore</th>\n",
       "      <th>add_sticker_tapped</th>\n",
       "      <th>app_clear_data</th>\n",
       "      <th>app_exception</th>\n",
       "      <th>app_remove</th>\n",
       "      <th>app_update</th>\n",
       "      <th>challenge_created</th>\n",
       "      <th>challenge_shared</th>\n",
       "      <th>comment_liked</th>\n",
       "      <th>...</th>\n",
       "      <th>screen_view</th>\n",
       "      <th>search_input_tapped</th>\n",
       "      <th>search_tab_selected</th>\n",
       "      <th>sticker_image_cut</th>\n",
       "      <th>sticker_image_selected</th>\n",
       "      <th>sticker_uploaded</th>\n",
       "      <th>user_blocked</th>\n",
       "      <th>user_items_uploaded</th>\n",
       "      <th>user_unblocked</th>\n",
       "      <th>user_unfollowed</th>\n",
       "    </tr>\n",
       "  </thead>\n",
       "  <tbody>\n",
       "    <tr>\n",
       "      <th>0</th>\n",
       "      <td>b77c070ea6bebab1b35869f2cea470bb</td>\n",
       "      <td>2.124</td>\n",
       "      <td>0.000</td>\n",
       "      <td>0.000</td>\n",
       "      <td>0.000</td>\n",
       "      <td>0.000</td>\n",
       "      <td>0.000</td>\n",
       "      <td>0.000</td>\n",
       "      <td>0.000</td>\n",
       "      <td>0.000</td>\n",
       "      <td>...</td>\n",
       "      <td>0.000</td>\n",
       "      <td>0.000</td>\n",
       "      <td>0.000</td>\n",
       "      <td>0.000</td>\n",
       "      <td>0.000</td>\n",
       "      <td>0.000</td>\n",
       "      <td>0.000</td>\n",
       "      <td>0.000</td>\n",
       "      <td>0.000</td>\n",
       "      <td>0.000</td>\n",
       "    </tr>\n",
       "  </tbody>\n",
       "</table>\n",
       "<p>1 rows × 54 columns</p>\n",
       "</div>"
      ],
      "text/plain": [
       "                     user_pseudo_id  retentionScore  add_sticker_tapped  \\\n",
       "0  b77c070ea6bebab1b35869f2cea470bb           2.124               0.000   \n",
       "\n",
       "   app_clear_data  app_exception  app_remove  app_update  challenge_created  \\\n",
       "0           0.000          0.000       0.000       0.000              0.000   \n",
       "\n",
       "   challenge_shared  comment_liked  ...  screen_view  search_input_tapped  \\\n",
       "0             0.000          0.000  ...        0.000                0.000   \n",
       "\n",
       "   search_tab_selected  sticker_image_cut  sticker_image_selected  \\\n",
       "0                0.000              0.000                   0.000   \n",
       "\n",
       "   sticker_uploaded  user_blocked  user_items_uploaded  user_unblocked  \\\n",
       "0             0.000         0.000                0.000           0.000   \n",
       "\n",
       "   user_unfollowed  \n",
       "0            0.000  \n",
       "\n",
       "[1 rows x 54 columns]"
      ]
     },
     "execution_count": 3,
     "metadata": {},
     "output_type": "execute_result"
    }
   ],
   "source": [
    "# training set dir\n",
    "ts_dir = '../data/training_sets/'\n",
    "\n",
    "# get file name with the latest version\n",
    "file_name = sorted(os.listdir(ts_dir))[-1]\n",
    "\n",
    "# read data\n",
    "df = pd.read_csv(ts_dir + file_name)\n",
    "df.head(1)"
   ]
  },
  {
   "cell_type": "markdown",
   "metadata": {},
   "source": [
    "## Reading data dictionary"
   ]
  },
  {
   "cell_type": "code",
   "execution_count": 4,
   "metadata": {},
   "outputs": [
    {
     "data": {
      "text/html": [
       "<div>\n",
       "<style scoped>\n",
       "    .dataframe tbody tr th:only-of-type {\n",
       "        vertical-align: middle;\n",
       "    }\n",
       "\n",
       "    .dataframe tbody tr th {\n",
       "        vertical-align: top;\n",
       "    }\n",
       "\n",
       "    .dataframe thead th {\n",
       "        text-align: right;\n",
       "    }\n",
       "</style>\n",
       "<table border=\"1\" class=\"dataframe\">\n",
       "  <thead>\n",
       "    <tr style=\"text-align: right;\">\n",
       "      <th></th>\n",
       "      <th>number</th>\n",
       "      <th>name</th>\n",
       "      <th>description</th>\n",
       "      <th>type</th>\n",
       "      <th>binary</th>\n",
       "      <th>role</th>\n",
       "      <th>use</th>\n",
       "      <th>comment</th>\n",
       "    </tr>\n",
       "  </thead>\n",
       "  <tbody>\n",
       "    <tr>\n",
       "      <th>0</th>\n",
       "      <td>1</td>\n",
       "      <td>user_pseudo_id</td>\n",
       "      <td>unique user identifier</td>\n",
       "      <td>id</td>\n",
       "      <td>N</td>\n",
       "      <td>id</td>\n",
       "      <td>NaN</td>\n",
       "      <td>nan</td>\n",
       "    </tr>\n",
       "    <tr>\n",
       "      <th>1</th>\n",
       "      <td>2</td>\n",
       "      <td>retentionScore</td>\n",
       "      <td>user retention score</td>\n",
       "      <td>num</td>\n",
       "      <td>N</td>\n",
       "      <td>target</td>\n",
       "      <td>Y</td>\n",
       "      <td>nan</td>\n",
       "    </tr>\n",
       "    <tr>\n",
       "      <th>2</th>\n",
       "      <td>3</td>\n",
       "      <td>add_sticker_tapped</td>\n",
       "      <td>event</td>\n",
       "      <td>num</td>\n",
       "      <td>N</td>\n",
       "      <td>predictor</td>\n",
       "      <td>Y</td>\n",
       "      <td>nan</td>\n",
       "    </tr>\n",
       "    <tr>\n",
       "      <th>3</th>\n",
       "      <td>4</td>\n",
       "      <td>app_clear_data</td>\n",
       "      <td>event</td>\n",
       "      <td>num</td>\n",
       "      <td>N</td>\n",
       "      <td>predictor</td>\n",
       "      <td>Y</td>\n",
       "      <td>nan</td>\n",
       "    </tr>\n",
       "    <tr>\n",
       "      <th>4</th>\n",
       "      <td>5</td>\n",
       "      <td>app_exception</td>\n",
       "      <td>event</td>\n",
       "      <td>num</td>\n",
       "      <td>N</td>\n",
       "      <td>predictor</td>\n",
       "      <td>Y</td>\n",
       "      <td>nan</td>\n",
       "    </tr>\n",
       "  </tbody>\n",
       "</table>\n",
       "</div>"
      ],
      "text/plain": [
       "   number                name             description type binary       role  \\\n",
       "0       1      user_pseudo_id  unique user identifier   id      N         id   \n",
       "1       2      retentionScore    user retention score  num      N     target   \n",
       "2       3  add_sticker_tapped                   event  num      N  predictor   \n",
       "3       4      app_clear_data                   event  num      N  predictor   \n",
       "4       5       app_exception                   event  num      N  predictor   \n",
       "\n",
       "   use  comment  \n",
       "0  NaN      nan  \n",
       "1    Y      nan  \n",
       "2    Y      nan  \n",
       "3    Y      nan  \n",
       "4    Y      nan  "
      ]
     },
     "execution_count": 4,
     "metadata": {},
     "output_type": "execute_result"
    }
   ],
   "source": [
    "# Reading in the data dictionary\n",
    "dict_dir = '../data/meta/data_dict.xlsx'\n",
    "\n",
    "dic = pd.read_excel(dict_dir, engine = 'openpyxl')\n",
    "dic.head()"
   ]
  },
  {
   "cell_type": "markdown",
   "metadata": {},
   "source": [
    "## Numerical, Categorical Datasets"
   ]
  },
  {
   "cell_type": "code",
   "execution_count": 5,
   "metadata": {},
   "outputs": [],
   "source": [
    "#Making everything a numerical or categorial variable\n",
    "num = dic.loc[dic.type == 'num', 'name'].values.tolist()\n",
    "cat = dic.loc[dic.type == 'cat', 'name'].values.tolist()\n",
    "target = dic.loc[dic.role == 'target', 'name'].values[0]\n",
    "df_num = df[num]\n",
    "df_cat = df[cat]"
   ]
  },
  {
   "cell_type": "markdown",
   "metadata": {},
   "source": [
    "## Categorical Preprocessing\n",
    "\n",
    "In the raw dataset we don't have any categorical features. However, in case we have categoricals in the tranining data those features should be identified as categorical."
   ]
  },
  {
   "cell_type": "code",
   "execution_count": 6,
   "metadata": {},
   "outputs": [],
   "source": [
    "for i in cat:\n",
    "    df[i] = pd.Categorical(df[i])"
   ]
  },
  {
   "cell_type": "markdown",
   "metadata": {},
   "source": [
    "## Descriptive Statistics\n",
    "\n",
    "By looking at the descriptive statistics of the numerical variables, we see that most of the features in our dataset including the target variable have positive skeweness in their distributions, meaning right skewed."
   ]
  },
  {
   "cell_type": "code",
   "execution_count": 7,
   "metadata": {},
   "outputs": [
    {
     "data": {
      "text/html": [
       "<div>\n",
       "<style scoped>\n",
       "    .dataframe tbody tr th:only-of-type {\n",
       "        vertical-align: middle;\n",
       "    }\n",
       "\n",
       "    .dataframe tbody tr th {\n",
       "        vertical-align: top;\n",
       "    }\n",
       "\n",
       "    .dataframe thead th {\n",
       "        text-align: right;\n",
       "    }\n",
       "</style>\n",
       "<table border=\"1\" class=\"dataframe\">\n",
       "  <thead>\n",
       "    <tr style=\"text-align: right;\">\n",
       "      <th></th>\n",
       "      <th>retentionScore</th>\n",
       "      <th>add_sticker_tapped</th>\n",
       "      <th>app_clear_data</th>\n",
       "      <th>app_exception</th>\n",
       "      <th>app_remove</th>\n",
       "      <th>app_update</th>\n",
       "      <th>challenge_created</th>\n",
       "      <th>challenge_shared</th>\n",
       "      <th>comment_liked</th>\n",
       "      <th>comment_posted</th>\n",
       "      <th>...</th>\n",
       "      <th>screen_view</th>\n",
       "      <th>search_input_tapped</th>\n",
       "      <th>search_tab_selected</th>\n",
       "      <th>sticker_image_cut</th>\n",
       "      <th>sticker_image_selected</th>\n",
       "      <th>sticker_uploaded</th>\n",
       "      <th>user_blocked</th>\n",
       "      <th>user_items_uploaded</th>\n",
       "      <th>user_unblocked</th>\n",
       "      <th>user_unfollowed</th>\n",
       "    </tr>\n",
       "  </thead>\n",
       "  <tbody>\n",
       "    <tr>\n",
       "      <th>count</th>\n",
       "      <td>373296.000</td>\n",
       "      <td>373296.000</td>\n",
       "      <td>373296.000</td>\n",
       "      <td>373296.000</td>\n",
       "      <td>373296.000</td>\n",
       "      <td>373296.000</td>\n",
       "      <td>373296.000</td>\n",
       "      <td>373296.000</td>\n",
       "      <td>373296.000</td>\n",
       "      <td>373296.000</td>\n",
       "      <td>...</td>\n",
       "      <td>373296.000</td>\n",
       "      <td>373296.000</td>\n",
       "      <td>373296.000</td>\n",
       "      <td>373296.000</td>\n",
       "      <td>373296.000</td>\n",
       "      <td>373296.000</td>\n",
       "      <td>373296.000</td>\n",
       "      <td>373296.000</td>\n",
       "      <td>373296.000</td>\n",
       "      <td>373296.000</td>\n",
       "    </tr>\n",
       "    <tr>\n",
       "      <th>mean</th>\n",
       "      <td>20.811</td>\n",
       "      <td>0.183</td>\n",
       "      <td>0.001</td>\n",
       "      <td>0.004</td>\n",
       "      <td>0.097</td>\n",
       "      <td>0.017</td>\n",
       "      <td>0.019</td>\n",
       "      <td>0.007</td>\n",
       "      <td>0.202</td>\n",
       "      <td>0.302</td>\n",
       "      <td>...</td>\n",
       "      <td>60.099</td>\n",
       "      <td>0.119</td>\n",
       "      <td>0.031</td>\n",
       "      <td>0.093</td>\n",
       "      <td>0.160</td>\n",
       "      <td>0.118</td>\n",
       "      <td>0.000</td>\n",
       "      <td>0.193</td>\n",
       "      <td>0.000</td>\n",
       "      <td>0.051</td>\n",
       "    </tr>\n",
       "    <tr>\n",
       "      <th>std</th>\n",
       "      <td>129.201</td>\n",
       "      <td>5.272</td>\n",
       "      <td>0.234</td>\n",
       "      <td>0.176</td>\n",
       "      <td>0.297</td>\n",
       "      <td>0.132</td>\n",
       "      <td>0.354</td>\n",
       "      <td>0.388</td>\n",
       "      <td>8.784</td>\n",
       "      <td>10.261</td>\n",
       "      <td>...</td>\n",
       "      <td>561.666</td>\n",
       "      <td>2.352</td>\n",
       "      <td>0.680</td>\n",
       "      <td>2.129</td>\n",
       "      <td>4.211</td>\n",
       "      <td>3.851</td>\n",
       "      <td>0.010</td>\n",
       "      <td>6.618</td>\n",
       "      <td>0.023</td>\n",
       "      <td>3.905</td>\n",
       "    </tr>\n",
       "    <tr>\n",
       "      <th>min</th>\n",
       "      <td>0.001</td>\n",
       "      <td>0.000</td>\n",
       "      <td>0.000</td>\n",
       "      <td>0.000</td>\n",
       "      <td>0.000</td>\n",
       "      <td>0.000</td>\n",
       "      <td>0.000</td>\n",
       "      <td>0.000</td>\n",
       "      <td>0.000</td>\n",
       "      <td>0.000</td>\n",
       "      <td>...</td>\n",
       "      <td>0.000</td>\n",
       "      <td>0.000</td>\n",
       "      <td>0.000</td>\n",
       "      <td>0.000</td>\n",
       "      <td>0.000</td>\n",
       "      <td>0.000</td>\n",
       "      <td>0.000</td>\n",
       "      <td>0.000</td>\n",
       "      <td>0.000</td>\n",
       "      <td>0.000</td>\n",
       "    </tr>\n",
       "    <tr>\n",
       "      <th>25%</th>\n",
       "      <td>0.067</td>\n",
       "      <td>0.000</td>\n",
       "      <td>0.000</td>\n",
       "      <td>0.000</td>\n",
       "      <td>0.000</td>\n",
       "      <td>0.000</td>\n",
       "      <td>0.000</td>\n",
       "      <td>0.000</td>\n",
       "      <td>0.000</td>\n",
       "      <td>0.000</td>\n",
       "      <td>...</td>\n",
       "      <td>0.000</td>\n",
       "      <td>0.000</td>\n",
       "      <td>0.000</td>\n",
       "      <td>0.000</td>\n",
       "      <td>0.000</td>\n",
       "      <td>0.000</td>\n",
       "      <td>0.000</td>\n",
       "      <td>0.000</td>\n",
       "      <td>0.000</td>\n",
       "      <td>0.000</td>\n",
       "    </tr>\n",
       "    <tr>\n",
       "      <th>50%</th>\n",
       "      <td>0.133</td>\n",
       "      <td>0.000</td>\n",
       "      <td>0.000</td>\n",
       "      <td>0.000</td>\n",
       "      <td>0.000</td>\n",
       "      <td>0.000</td>\n",
       "      <td>0.000</td>\n",
       "      <td>0.000</td>\n",
       "      <td>0.000</td>\n",
       "      <td>0.000</td>\n",
       "      <td>...</td>\n",
       "      <td>0.000</td>\n",
       "      <td>0.000</td>\n",
       "      <td>0.000</td>\n",
       "      <td>0.000</td>\n",
       "      <td>0.000</td>\n",
       "      <td>0.000</td>\n",
       "      <td>0.000</td>\n",
       "      <td>0.000</td>\n",
       "      <td>0.000</td>\n",
       "      <td>0.000</td>\n",
       "    </tr>\n",
       "    <tr>\n",
       "      <th>75%</th>\n",
       "      <td>0.200</td>\n",
       "      <td>0.000</td>\n",
       "      <td>0.000</td>\n",
       "      <td>0.000</td>\n",
       "      <td>0.000</td>\n",
       "      <td>0.000</td>\n",
       "      <td>0.000</td>\n",
       "      <td>0.000</td>\n",
       "      <td>0.000</td>\n",
       "      <td>0.000</td>\n",
       "      <td>...</td>\n",
       "      <td>1.000</td>\n",
       "      <td>0.000</td>\n",
       "      <td>0.000</td>\n",
       "      <td>0.000</td>\n",
       "      <td>0.000</td>\n",
       "      <td>0.000</td>\n",
       "      <td>0.000</td>\n",
       "      <td>0.000</td>\n",
       "      <td>0.000</td>\n",
       "      <td>0.000</td>\n",
       "    </tr>\n",
       "    <tr>\n",
       "      <th>max</th>\n",
       "      <td>20526.061</td>\n",
       "      <td>1977.000</td>\n",
       "      <td>119.000</td>\n",
       "      <td>67.000</td>\n",
       "      <td>2.000</td>\n",
       "      <td>2.000</td>\n",
       "      <td>56.000</td>\n",
       "      <td>133.000</td>\n",
       "      <td>1554.000</td>\n",
       "      <td>3028.000</td>\n",
       "      <td>...</td>\n",
       "      <td>80424.000</td>\n",
       "      <td>476.000</td>\n",
       "      <td>127.000</td>\n",
       "      <td>558.000</td>\n",
       "      <td>1284.000</td>\n",
       "      <td>1113.000</td>\n",
       "      <td>5.000</td>\n",
       "      <td>1818.000</td>\n",
       "      <td>11.000</td>\n",
       "      <td>1557.000</td>\n",
       "    </tr>\n",
       "  </tbody>\n",
       "</table>\n",
       "<p>8 rows × 53 columns</p>\n",
       "</div>"
      ],
      "text/plain": [
       "       retentionScore  add_sticker_tapped  app_clear_data  app_exception  \\\n",
       "count      373296.000          373296.000      373296.000     373296.000   \n",
       "mean           20.811               0.183           0.001          0.004   \n",
       "std           129.201               5.272           0.234          0.176   \n",
       "min             0.001               0.000           0.000          0.000   \n",
       "25%             0.067               0.000           0.000          0.000   \n",
       "50%             0.133               0.000           0.000          0.000   \n",
       "75%             0.200               0.000           0.000          0.000   \n",
       "max         20526.061            1977.000         119.000         67.000   \n",
       "\n",
       "       app_remove  app_update  challenge_created  challenge_shared  \\\n",
       "count  373296.000  373296.000         373296.000        373296.000   \n",
       "mean        0.097       0.017              0.019             0.007   \n",
       "std         0.297       0.132              0.354             0.388   \n",
       "min         0.000       0.000              0.000             0.000   \n",
       "25%         0.000       0.000              0.000             0.000   \n",
       "50%         0.000       0.000              0.000             0.000   \n",
       "75%         0.000       0.000              0.000             0.000   \n",
       "max         2.000       2.000             56.000           133.000   \n",
       "\n",
       "       comment_liked  comment_posted  ...  screen_view  search_input_tapped  \\\n",
       "count     373296.000      373296.000  ...   373296.000           373296.000   \n",
       "mean           0.202           0.302  ...       60.099                0.119   \n",
       "std            8.784          10.261  ...      561.666                2.352   \n",
       "min            0.000           0.000  ...        0.000                0.000   \n",
       "25%            0.000           0.000  ...        0.000                0.000   \n",
       "50%            0.000           0.000  ...        0.000                0.000   \n",
       "75%            0.000           0.000  ...        1.000                0.000   \n",
       "max         1554.000        3028.000  ...    80424.000              476.000   \n",
       "\n",
       "       search_tab_selected  sticker_image_cut  sticker_image_selected  \\\n",
       "count           373296.000         373296.000              373296.000   \n",
       "mean                 0.031              0.093                   0.160   \n",
       "std                  0.680              2.129                   4.211   \n",
       "min                  0.000              0.000                   0.000   \n",
       "25%                  0.000              0.000                   0.000   \n",
       "50%                  0.000              0.000                   0.000   \n",
       "75%                  0.000              0.000                   0.000   \n",
       "max                127.000            558.000                1284.000   \n",
       "\n",
       "       sticker_uploaded  user_blocked  user_items_uploaded  user_unblocked  \\\n",
       "count        373296.000    373296.000           373296.000      373296.000   \n",
       "mean              0.118         0.000                0.193           0.000   \n",
       "std               3.851         0.010                6.618           0.023   \n",
       "min               0.000         0.000                0.000           0.000   \n",
       "25%               0.000         0.000                0.000           0.000   \n",
       "50%               0.000         0.000                0.000           0.000   \n",
       "75%               0.000         0.000                0.000           0.000   \n",
       "max            1113.000         5.000             1818.000          11.000   \n",
       "\n",
       "       user_unfollowed  \n",
       "count       373296.000  \n",
       "mean             0.051  \n",
       "std              3.905  \n",
       "min              0.000  \n",
       "25%              0.000  \n",
       "50%              0.000  \n",
       "75%              0.000  \n",
       "max           1557.000  \n",
       "\n",
       "[8 rows x 53 columns]"
      ]
     },
     "execution_count": 7,
     "metadata": {},
     "output_type": "execute_result"
    }
   ],
   "source": [
    "df_num.describe()"
   ]
  },
  {
   "cell_type": "markdown",
   "metadata": {},
   "source": [
    "# Nonzero percentages of features"
   ]
  },
  {
   "cell_type": "code",
   "execution_count": 8,
   "metadata": {},
   "outputs": [],
   "source": [
    "df_zeroratio = pd.DataFrame({'nonzero_entries': (df_num!=0).astype(int).sum(axis=0), 'all_entries': np.repeat(df_num.shape[0], df_num.shape[1])})\n",
    "df_zeroratio['percent_nonzero'] = (100 * df_zeroratio['nonzero_entries'] / df_zeroratio['all_entries'])\n",
    "df_zeroratio.sort_values(by='percent_nonzero', ascending=False, inplace=True)"
   ]
  },
  {
   "cell_type": "code",
   "execution_count": null,
   "metadata": {},
   "outputs": [],
   "source": [
    "fig = px.bar(x=df_zeroratio.percent_nonzero[1:], y=df_zeroratio.index[1:], text = df_zeroratio.percent_nonzero[1:], template='plotly_dark')\n",
    "fig.update_layout(title={'text': 'Nonzero percentage in the feature values'})\n",
    "fig.update_traces(texttemplate='%{text:.2f}%', textposition='outside', textfont_size=14, marker_color='indianred')\n",
    "fig.write_html(\"../documentation/docs/assets/nonzero_percent.html\")"
   ]
  },
  {
   "cell_type": "markdown",
   "metadata": {},
   "source": [
    "# Skewness in the feature distributions"
   ]
  },
  {
   "cell_type": "code",
   "execution_count": null,
   "metadata": {},
   "outputs": [],
   "source": [
    "skewness = df_num.skew()\n",
    "skewness.sort_values(ascending=False, inplace=True)"
   ]
  },
  {
   "cell_type": "code",
   "execution_count": null,
   "metadata": {},
   "outputs": [],
   "source": [
    "colors = ['lightslategray',] * len(skewness)\n",
    "colors[np.where(skewness.index=='retentionScore')[0][0]] = 'indianred'\n",
    "fig = px.bar(x=skewness.index, y=skewness.values, text = skewness.values, template='plotly_dark')\n",
    "fig.update_layout(title={'text': 'Skewness of the features and the target variable'})\n",
    "fig.update_traces(texttemplate='%{text:.0f}', textposition='outside', textfont_size=14, marker_color=colors)\n",
    "fig.write_html(\"../documentation/docs/assets/skewness.html\")"
   ]
  },
  {
   "cell_type": "markdown",
   "metadata": {},
   "source": [
    "# Correlations"
   ]
  },
  {
   "cell_type": "code",
   "execution_count": 14,
   "metadata": {},
   "outputs": [],
   "source": [
    "correlations = df[num + cat].corr()\n",
    "corr_pairs=correlations.unstack()\n",
    "strong_pairs = corr_pairs.sort_values(kind=\"quicksort\")[(corr_pairs!=1) & (abs(corr_pairs) > 0.5)]"
   ]
  },
  {
   "cell_type": "code",
   "execution_count": null,
   "metadata": {},
   "outputs": [],
   "source": [
    "mask = np.triu(np.ones_like(correlations, dtype=bool))\n",
    "df_mask = correlations.mask(mask)\n",
    "fig = go.Figure(data=go.Heatmap(z=df_mask.values, x=df_mask.index, y=df_mask.columns, colorscale=px.colors.diverging.RdBu_r, showscale=True, ygap=1, xgap=1, zmin=-1, zmax=1))\n",
    "fig.update_layout(title='Correlations Heatmap', template='plotly_dark')\n",
    "fig.write_html(\"../documentation/docs/assets/corr.html\")"
   ]
  },
  {
   "cell_type": "markdown",
   "metadata": {},
   "source": [
    "# Feature-Target Correlations"
   ]
  },
  {
   "cell_type": "code",
   "execution_count": 15,
   "metadata": {},
   "outputs": [],
   "source": [
    "corr_mat = correlations.stack().reset_index(name=\"correlation\")\n",
    "corr_target=corr_mat[corr_mat['level_0']==target][1:]\n",
    "corr_target=corr_target.reindex(corr_target.correlation.abs().sort_values().index)\n",
    "corr_target_top = corr_target[-10:]"
   ]
  },
  {
   "cell_type": "code",
   "execution_count": null,
   "metadata": {},
   "outputs": [],
   "source": [
    "colors=px.colors.sequential.Reds_r\n",
    "fig = px.bar(corr_target_top, x='level_1', y='correlation', color=abs(corr_target_top.correlation), template='plotly_dark', text = 'correlation', color_continuous_scale='Reds', range_color=[0,1], )\n",
    "fig.update_layout(title={'text': 'The first 10 most correlated features with target variable'}, coloraxis_colorbar=dict(title=\"Correlation Magnitude\"))\n",
    "fig.add_hline(y=0)\n",
    "fig.update_traces(texttemplate='%{text:.2f}', textposition='outside', textfont_size=14)\n",
    "fig.write_html(\"../documentation/docs/assets/corr_target.html\")"
   ]
  },
  {
   "cell_type": "markdown",
   "metadata": {},
   "source": [
    "## Top 5 correlated features with target as imp_var "
   ]
  },
  {
   "cell_type": "code",
   "execution_count": null,
   "metadata": {},
   "outputs": [],
   "source": [
    "imp_var = corr_target[-5:].level_1.to_list()"
   ]
  },
  {
   "cell_type": "markdown",
   "metadata": {},
   "source": [
    "## Log-transformation applied and rounded target variable"
   ]
  },
  {
   "cell_type": "code",
   "execution_count": null,
   "metadata": {},
   "outputs": [],
   "source": [
    "df_num['ret_disc'] = df_num.retentionScore.apply(lambda x: np.log(x).round())"
   ]
  },
  {
   "cell_type": "code",
   "execution_count": null,
   "metadata": {},
   "outputs": [],
   "source": [
    "df_ret_vc = df_num.ret_disc.value_counts()\n",
    "fig=px.bar(x = df_ret_vc.index, y=df_ret_vc.values, template='plotly_dark')\n",
    "fig.update_xaxes(title='Retention Category')\n",
    "fig.update_yaxes(title='# of Users')\n",
    "fig.write_html(\"../documentation/docs/assets/target_value_counts.html\")"
   ]
  },
  {
   "cell_type": "markdown",
   "metadata": {},
   "source": [
    "# Mean event counts for each retention category"
   ]
  },
  {
   "cell_type": "code",
   "execution_count": null,
   "metadata": {},
   "outputs": [],
   "source": [
    "df_norm = df_num[['ret_disc']+imp_var]\n",
    "for i in imp_var:\n",
    "    df_norm[i] = (df_norm[i]-df_norm[i].min())/(df_norm[i].max()-df_norm[i].min())\n",
    "    \n",
    "df_mean=df_norm.groupby('ret_disc').mean().stack().reset_index(name='mean')\n",
    "df_mean.rename(columns={'level_1':'imp_var'},inplace=True)\n",
    "df_mean=df_mean.pivot(index='imp_var', columns='ret_disc', values='mean')"
   ]
  },
  {
   "cell_type": "code",
   "execution_count": null,
   "metadata": {},
   "outputs": [],
   "source": [
    "fig = make_subplots(rows=5, cols=1, shared_xaxes=True, x_title = 'Retention Category', y_title ='Mean Event Count', row_titles=imp_var)\n",
    "x = df_mean.columns.tolist()\n",
    "colors = px.colors.qualitative.Set3*2\n",
    "\n",
    "for ii, i in enumerate(imp_var):\n",
    "    figs = px.bar(x=x, y=df_mean.loc[i,].values, color=x)\n",
    "    fig.add_trace(figs['data'][0], row=ii+1, col=1)\n",
    "\n",
    "fig.update_layout(template='plotly_dark')\n",
    "fig.update_traces(marker_color=colors)\n",
    "\n",
    "fig.write_html(\"../documentation/docs/assets/mean_imp_bar.html\")"
   ]
  },
  {
   "cell_type": "markdown",
   "metadata": {},
   "source": [
    "# Boxplot"
   ]
  },
  {
   "cell_type": "code",
   "execution_count": null,
   "metadata": {},
   "outputs": [],
   "source": [
    "df_ret_sorted = df_num.sort_values(by='ret_disc')\n",
    "fig = make_subplots(rows=5, cols=1, shared_xaxes=True, x_title = 'Retention Category', y_title='Event Count', row_titles=imp_var)\n",
    "\n",
    "for ii, i in enumerate(imp_var):\n",
    "    figs = px.box(df_ret_sorted, x='ret_disc', y=i, color='ret_disc', notched=True)\n",
    "    for j in range(len(x)):\n",
    "        fig.add_trace(figs['data'][j], row=ii+1, col=1)\n",
    "\n",
    "fig.update_layout(template='plotly_dark', showlegend=False)\n",
    "\n",
    "fig.write_html(\"../documentation/docs/assets/box.html\")"
   ]
  },
  {
   "cell_type": "markdown",
   "metadata": {},
   "source": [
    "## item_added Boxplot"
   ]
  },
  {
   "cell_type": "code",
   "execution_count": null,
   "metadata": {},
   "outputs": [],
   "source": [
    "fig = px.box(df_ret_sorted, x='ret_disc', y='item_added', color='ret_disc', notched=True, template='plotly_dark')\n",
    "fig.write_html(\"../documentation/docs/assets/box_item_added.html\")"
   ]
  },
  {
   "cell_type": "markdown",
   "metadata": {},
   "source": [
    "# item_added distribution w.r.t. retention score"
   ]
  },
  {
   "cell_type": "code",
   "execution_count": null,
   "metadata": {},
   "outputs": [],
   "source": [
    "fig = px.scatter(df_num, x=\"retentionScore\", y=\"item_added\", color=\"ret_disc\", marginal_y=\"violin\", marginal_x=\"box\", trendline=\"ols\", template=\"plotly_dark\")\n",
    "fig.update_layout(title={'text': 'Distribution of item_added versus retentionScore colored by log-discrete retention'})\n",
    "fig.write_html(\"../documentation/docs/assets/item_added_vs_retention.html\")"
   ]
  }
 ],
 "metadata": {
  "interpreter": {
   "hash": "9032b3f45ccaea82bd424b811a38640fbb98cc82813f6c031d2c072779b2e7a3"
  },
  "kernelspec": {
   "display_name": "Python 3.7.9 64-bit",
   "name": "python3"
  },
  "language_info": {
   "codemirror_mode": {
    "name": "ipython",
    "version": 3
   },
   "file_extension": ".py",
   "mimetype": "text/x-python",
   "name": "python",
   "nbconvert_exporter": "python",
   "pygments_lexer": "ipython3",
   "version": "3.7.9"
  },
  "orig_nbformat": 4
 },
 "nbformat": 4,
 "nbformat_minor": 2
}
