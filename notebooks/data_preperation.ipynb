{
 "cells": [
  {
   "cell_type": "code",
   "execution_count": null,
   "source": [
    "import pandas as pd\r\n",
    "import numpy as np"
   ],
   "outputs": [],
   "metadata": {}
  },
  {
   "cell_type": "markdown",
   "source": [
    "# Data Reading"
   ],
   "metadata": {}
  },
  {
   "cell_type": "code",
   "execution_count": null,
   "source": [
    "events = pd.read_csv('../data/raw/data_events.csv')\r\n",
    "retention = pd.read_csv('../data/raw/data_retention.csv')"
   ],
   "outputs": [],
   "metadata": {}
  },
  {
   "cell_type": "code",
   "execution_count": null,
   "source": [
    "print(events.head())\r\n",
    "print('Length of the events dataset: ' + str(len(events)))\r\n",
    "print('\\n' + 100*'-' + '\\n')\r\n",
    "print(retention.head())\r\n",
    "print('Length of the retention dataset: ' + str(len(retention)))"
   ],
   "outputs": [],
   "metadata": {}
  },
  {
   "cell_type": "markdown",
   "source": [
    "# Data types"
   ],
   "metadata": {}
  },
  {
   "cell_type": "code",
   "execution_count": null,
   "source": [
    "print(events.dtypes)\r\n",
    "print('\\n' + 100*'-' + '\\n')\r\n",
    "print(retention.dtypes)"
   ],
   "outputs": [],
   "metadata": {}
  },
  {
   "cell_type": "markdown",
   "source": [
    "# Missingness"
   ],
   "metadata": {}
  },
  {
   "cell_type": "code",
   "execution_count": null,
   "source": [
    "print(events.isna().sum())\r\n",
    "print('\\n' + 100*'-' + '\\n')\r\n",
    "print(retention.isna().sum())"
   ],
   "outputs": [],
   "metadata": {}
  },
  {
   "cell_type": "markdown",
   "source": [
    "# First look"
   ],
   "metadata": {}
  },
  {
   "cell_type": "code",
   "execution_count": null,
   "source": [
    "print('# of unqiue users in the events dataset: ' + str(len(events.user_pseudo_id.unique())))\r\n",
    "print('# of unqiue users in the retention dataset: ' + str(len(retention.user_pseudo_id.unique())))\r\n",
    "print('# of unique events in the events dataset: ' + str(len(events.event_name.unique())))"
   ],
   "outputs": [],
   "metadata": {}
  },
  {
   "cell_type": "markdown",
   "source": [
    "## Initial insights\r\n",
    "\r\n",
    "* We have a events table that keeps actions of the users and retention table that keeps retention scores of the users.\r\n",
    "* In total we have 52 different types of events, 373296 unique users and 500000 user actions.\r\n",
    "* Datasets have no missing values.\r\n",
    "* Data types are correct.\r\n",
    "\r\n",
    "Therefore, dataset will be transformed into training data which has users as rows, events as features, user actions (event_count) as values and retention score as float target variable.\r\n"
   ],
   "metadata": {}
  },
  {
   "cell_type": "markdown",
   "source": [
    "# Data Wrangling\r\n",
    "\r\n",
    "**Step 1**\r\n",
    "\r\n",
    "user_event dataframe is created from the original events dataframe. user_event table has column for each unique event_name, index for each user_pseudo_id and values filled by event_count. While filling the values for each user, if event_name is not included in the events dataset for a user then event_count for that user-event pair is taken as zero. At the end, we would expect to have 373296 rows and 52 columns in the user_event table.\r\n",
    "\r\n",
    "**Step 2**\r\n",
    "\r\n",
    "user_event dataframe is inner joined with retention dataframe. Hence, retentionScore is added to dataset.\r\n",
    "\r\n",
    "**Step 3**\r\n",
    "\r\n",
    "Cheers! We have a tidy-clean dataset to start our data analysis."
   ],
   "metadata": {}
  },
  {
   "cell_type": "code",
   "execution_count": null,
   "source": [
    "user_event = events.pivot(index='user_pseudo_id', columns='event_name', values='event_count')\r\n",
    "user_event.fillna(0, inplace=True)\r\n",
    "user_event.shape"
   ],
   "outputs": [],
   "metadata": {}
  },
  {
   "cell_type": "code",
   "execution_count": null,
   "source": [
    "df = retention.set_index('user_pseudo_id').join(user_event)\r\n",
    "print(df.shape)\r\n",
    "print(df.columns.values)"
   ],
   "outputs": [],
   "metadata": {}
  },
  {
   "cell_type": "code",
   "execution_count": null,
   "source": [
    "df.to_csv('../data/training_sets/dataset_v001.csv')"
   ],
   "outputs": [],
   "metadata": {}
  }
 ],
 "metadata": {
  "orig_nbformat": 4,
  "language_info": {
   "name": "python",
   "version": "3.7.9",
   "mimetype": "text/x-python",
   "codemirror_mode": {
    "name": "ipython",
    "version": 3
   },
   "pygments_lexer": "ipython3",
   "nbconvert_exporter": "python",
   "file_extension": ".py"
  },
  "kernelspec": {
   "name": "python3",
   "display_name": "Python 3.7.9 64-bit"
  },
  "interpreter": {
   "hash": "9032b3f45ccaea82bd424b811a38640fbb98cc82813f6c031d2c072779b2e7a3"
  }
 },
 "nbformat": 4,
 "nbformat_minor": 2
}